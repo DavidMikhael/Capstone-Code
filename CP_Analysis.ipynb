{
  "cells": [
    {
      "cell_type": "code",
      "source": [
        "import keras\n",
        "import tensorflow.keras.optimizers\n",
        "from tensorflow.keras.optimizers import Adam\n",
        "from keras.models import Sequential\n",
        "from keras.layers import Dense"
      ],
      "metadata": {
        "id": "TsKGEsuo2fM6"
      },
      "execution_count": null,
      "outputs": []
    },
    {
      "cell_type": "code",
      "execution_count": null,
      "metadata": {
        "id": "4p2qEUXGAP7O",
        "colab": {
          "base_uri": "https://localhost:8080/"
        },
        "outputId": "a2ac16f1-f7d9-4a4a-842e-0b8545639a91"
      },
      "outputs": [
        {
          "output_type": "stream",
          "name": "stdout",
          "text": [
            "Looking in indexes: https://pypi.org/simple, https://us-python.pkg.dev/colab-wheels/public/simple/\n",
            "Collecting nilearn\n",
            "  Downloading nilearn-0.9.2-py3-none-any.whl (9.6 MB)\n",
            "\u001b[K     |████████████████████████████████| 9.6 MB 7.7 MB/s \n",
            "\u001b[?25hRequirement already satisfied: pandas>=1.0 in /usr/local/lib/python3.7/dist-packages (from nilearn) (1.3.5)\n",
            "Requirement already satisfied: joblib>=0.15 in /usr/local/lib/python3.7/dist-packages (from nilearn) (1.2.0)\n",
            "Requirement already satisfied: lxml in /usr/local/lib/python3.7/dist-packages (from nilearn) (4.9.1)\n",
            "Requirement already satisfied: scikit-learn>=0.22 in /usr/local/lib/python3.7/dist-packages (from nilearn) (1.0.2)\n",
            "Requirement already satisfied: requests>=2 in /usr/local/lib/python3.7/dist-packages (from nilearn) (2.23.0)\n",
            "Requirement already satisfied: numpy>=1.18 in /usr/local/lib/python3.7/dist-packages (from nilearn) (1.21.6)\n",
            "Requirement already satisfied: scipy>=1.5 in /usr/local/lib/python3.7/dist-packages (from nilearn) (1.7.3)\n",
            "Requirement already satisfied: nibabel>=3.0.0 in /usr/local/lib/python3.7/dist-packages (from nilearn) (3.0.2)\n",
            "Requirement already satisfied: pytz>=2017.3 in /usr/local/lib/python3.7/dist-packages (from pandas>=1.0->nilearn) (2022.5)\n",
            "Requirement already satisfied: python-dateutil>=2.7.3 in /usr/local/lib/python3.7/dist-packages (from pandas>=1.0->nilearn) (2.8.2)\n",
            "Requirement already satisfied: six>=1.5 in /usr/local/lib/python3.7/dist-packages (from python-dateutil>=2.7.3->pandas>=1.0->nilearn) (1.15.0)\n",
            "Requirement already satisfied: chardet<4,>=3.0.2 in /usr/local/lib/python3.7/dist-packages (from requests>=2->nilearn) (3.0.4)\n",
            "Requirement already satisfied: urllib3!=1.25.0,!=1.25.1,<1.26,>=1.21.1 in /usr/local/lib/python3.7/dist-packages (from requests>=2->nilearn) (1.24.3)\n",
            "Requirement already satisfied: certifi>=2017.4.17 in /usr/local/lib/python3.7/dist-packages (from requests>=2->nilearn) (2022.9.24)\n",
            "Requirement already satisfied: idna<3,>=2.5 in /usr/local/lib/python3.7/dist-packages (from requests>=2->nilearn) (2.10)\n",
            "Requirement already satisfied: threadpoolctl>=2.0.0 in /usr/local/lib/python3.7/dist-packages (from scikit-learn>=0.22->nilearn) (3.1.0)\n",
            "Installing collected packages: nilearn\n",
            "Successfully installed nilearn-0.9.2\n",
            "Mounted at /content/drive\n"
          ]
        }
      ],
      "source": [
        "from google.colab import drive\n",
        "import pandas as pd\n",
        "import numpy as np\n",
        "!pip install nilearn\n",
        "drive.mount('/content/drive')"
      ]
    },
    {
      "cell_type": "code",
      "execution_count": null,
      "metadata": {
        "colab": {
          "base_uri": "https://localhost:8080/"
        },
        "id": "wr240xflQsH3",
        "outputId": "8076e0ad-3aa8-4dd1-b1c6-e13154a021f9"
      },
      "outputs": [
        {
          "output_type": "stream",
          "name": "stdout",
          "text": [
            "\n",
            "Dataset created in /root/nilearn_data/adhd\n",
            "\n",
            "Downloading data from https://www.nitrc.org/frs/download.php/7781/adhd40_metadata.tgz ...\n"
          ]
        },
        {
          "output_type": "stream",
          "name": "stderr",
          "text": [
            " ...done. (0 seconds, 0 min)\n",
            "Extracting data from /root/nilearn_data/adhd/74a52d3552145e11365bb68453d1a70c/adhd40_metadata.tgz..... done.\n"
          ]
        },
        {
          "output_type": "stream",
          "name": "stdout",
          "text": [
            "Downloading data from https://www.nitrc.org/frs/download.php/7782/adhd40_0010042.tgz ...\n"
          ]
        },
        {
          "output_type": "stream",
          "name": "stderr",
          "text": [
            "\rDownloaded 16138240 of 44414948 bytes (36.3%,    1.8s remaining) ...done. (2 seconds, 0 min)\n",
            "Extracting data from /root/nilearn_data/adhd/166bfb3ae13f7c60c012aa2194eef088/adhd40_0010042.tgz..... done.\n"
          ]
        },
        {
          "output_type": "stream",
          "name": "stdout",
          "text": [
            "Downloading data from https://www.nitrc.org/frs/download.php/7783/adhd40_0010064.tgz ...\n"
          ]
        },
        {
          "output_type": "stream",
          "name": "stderr",
          "text": [
            "\rDownloaded 32849920 of 45583539 bytes (72.1%,    0.4s remaining) ...done. (2 seconds, 0 min)\n",
            "Extracting data from /root/nilearn_data/adhd/166bfb3ae13f7c60c012aa2194eef088/adhd40_0010064.tgz..... done.\n"
          ]
        },
        {
          "output_type": "stream",
          "name": "stdout",
          "text": [
            "Downloading data from https://www.nitrc.org/frs/download.php/7784/adhd40_0010128.tgz ...\n"
          ]
        },
        {
          "output_type": "stream",
          "name": "stderr",
          "text": [
            "\rDownloaded 29999104 of 45461055 bytes (66.0%,    0.5s remaining) ...done. (2 seconds, 0 min)\n",
            "Extracting data from /root/nilearn_data/adhd/166bfb3ae13f7c60c012aa2194eef088/adhd40_0010128.tgz..... done.\n"
          ]
        },
        {
          "output_type": "stream",
          "name": "stdout",
          "text": [
            "Downloading data from https://www.nitrc.org/frs/download.php/7785/adhd40_0021019.tgz ...\n"
          ]
        },
        {
          "output_type": "stream",
          "name": "stderr",
          "text": [
            "\rDownloaded 26337280 of 46216320 bytes (57.0%,    0.8s remaining) ...done. (2 seconds, 0 min)\n",
            "Extracting data from /root/nilearn_data/adhd/166bfb3ae13f7c60c012aa2194eef088/adhd40_0021019.tgz..... done.\n"
          ]
        },
        {
          "output_type": "stream",
          "name": "stdout",
          "text": [
            "Downloading data from https://www.nitrc.org/frs/download.php/7786/adhd40_0023008.tgz ...\n"
          ]
        },
        {
          "output_type": "stream",
          "name": "stderr",
          "text": [
            " ...done. (1 seconds, 0 min)\n",
            "Extracting data from /root/nilearn_data/adhd/166bfb3ae13f7c60c012aa2194eef088/adhd40_0023008.tgz..... done.\n"
          ]
        },
        {
          "output_type": "stream",
          "name": "stdout",
          "text": [
            "Downloading data from https://www.nitrc.org/frs/download.php/7787/adhd40_0023012.tgz ...\n"
          ]
        },
        {
          "output_type": "stream",
          "name": "stderr",
          "text": [
            " ...done. (1 seconds, 0 min)\n",
            "Extracting data from /root/nilearn_data/adhd/166bfb3ae13f7c60c012aa2194eef088/adhd40_0023012.tgz..... done.\n"
          ]
        },
        {
          "output_type": "stream",
          "name": "stdout",
          "text": [
            "Downloading data from https://www.nitrc.org/frs/download.php/7788/adhd40_0027011.tgz ...\n"
          ]
        },
        {
          "output_type": "stream",
          "name": "stderr",
          "text": [
            "Downloaded 66822144 of 72402326 bytes (92.3%,    0.2s remaining) ...done. (2 seconds, 0 min)\n",
            "Extracting data from /root/nilearn_data/adhd/166bfb3ae13f7c60c012aa2194eef088/adhd40_0027011.tgz..... done.\n"
          ]
        },
        {
          "output_type": "stream",
          "name": "stdout",
          "text": [
            "Downloading data from https://www.nitrc.org/frs/download.php/7789/adhd40_0027018.tgz ...\n"
          ]
        },
        {
          "output_type": "stream",
          "name": "stderr",
          "text": [
            "Downloaded 57376768 of 76184603 bytes (75.3%,    0.7s remaining) ...done. (3 seconds, 0 min)\n",
            "Extracting data from /root/nilearn_data/adhd/166bfb3ae13f7c60c012aa2194eef088/adhd40_0027018.tgz..... done.\n"
          ]
        },
        {
          "output_type": "stream",
          "name": "stdout",
          "text": [
            "Downloading data from https://www.nitrc.org/frs/download.php/7790/adhd40_0027034.tgz ...\n"
          ]
        },
        {
          "output_type": "stream",
          "name": "stderr",
          "text": [
            "Downloaded 57630720 of 70074120 bytes (82.2%,    0.4s remaining) ...done. (3 seconds, 0 min)\n",
            "Extracting data from /root/nilearn_data/adhd/166bfb3ae13f7c60c012aa2194eef088/adhd40_0027034.tgz..... done.\n"
          ]
        },
        {
          "output_type": "stream",
          "name": "stdout",
          "text": [
            "Downloading data from https://www.nitrc.org/frs/download.php/7791/adhd40_0027037.tgz ...\n"
          ]
        },
        {
          "output_type": "stream",
          "name": "stderr",
          "text": [
            "Downloaded 68837376 of 69291635 bytes (99.3%,    0.0s remaining) ...done. (3 seconds, 0 min)\n",
            "Extracting data from /root/nilearn_data/adhd/166bfb3ae13f7c60c012aa2194eef088/adhd40_0027037.tgz..... done.\n"
          ]
        },
        {
          "output_type": "stream",
          "name": "stdout",
          "text": [
            "Downloading data from https://www.nitrc.org/frs/download.php/7792/adhd40_1019436.tgz ...\n"
          ]
        },
        {
          "output_type": "stream",
          "name": "stderr",
          "text": [
            "\rDownloaded 30646272 of 41803342 bytes (73.3%,    0.4s remaining) ...done. (1 seconds, 0 min)\n",
            "Extracting data from /root/nilearn_data/adhd/166bfb3ae13f7c60c012aa2194eef088/adhd40_1019436.tgz..... done.\n"
          ]
        },
        {
          "output_type": "stream",
          "name": "stdout",
          "text": [
            "Downloading data from https://www.nitrc.org/frs/download.php/7793/adhd40_1206380.tgz ...\n"
          ]
        },
        {
          "output_type": "stream",
          "name": "stderr",
          "text": [
            " ...done. (1 seconds, 0 min)\n",
            "Extracting data from /root/nilearn_data/adhd/166bfb3ae13f7c60c012aa2194eef088/adhd40_1206380.tgz..... done.\n"
          ]
        },
        {
          "output_type": "stream",
          "name": "stdout",
          "text": [
            "Downloading data from https://www.nitrc.org/frs/download.php/7794/adhd40_1418396.tgz ...\n"
          ]
        },
        {
          "output_type": "stream",
          "name": "stderr",
          "text": [
            " ...done. (1 seconds, 0 min)\n",
            "Extracting data from /root/nilearn_data/adhd/166bfb3ae13f7c60c012aa2194eef088/adhd40_1418396.tgz..... done.\n"
          ]
        },
        {
          "output_type": "stream",
          "name": "stdout",
          "text": [
            "Downloading data from https://www.nitrc.org/frs/download.php/7795/adhd40_1517058.tgz ...\n"
          ]
        },
        {
          "output_type": "stream",
          "name": "stderr",
          "text": [
            "\rDownloaded 34865152 of 62682233 bytes (55.6%,    0.8s remaining) ...done. (2 seconds, 0 min)\n",
            "Extracting data from /root/nilearn_data/adhd/166bfb3ae13f7c60c012aa2194eef088/adhd40_1517058.tgz..... done.\n"
          ]
        },
        {
          "output_type": "stream",
          "name": "stdout",
          "text": [
            "Downloading data from https://www.nitrc.org/frs/download.php/7796/adhd40_1552181.tgz ...\n"
          ]
        },
        {
          "output_type": "stream",
          "name": "stderr",
          "text": [
            " ...done. (1 seconds, 0 min)\n",
            "Extracting data from /root/nilearn_data/adhd/166bfb3ae13f7c60c012aa2194eef088/adhd40_1552181.tgz..... done.\n"
          ]
        },
        {
          "output_type": "stream",
          "name": "stdout",
          "text": [
            "Downloading data from https://www.nitrc.org/frs/download.php/7797/adhd40_1562298.tgz ...\n"
          ]
        },
        {
          "output_type": "stream",
          "name": "stderr",
          "text": [
            "\rDownloaded 35012608 of 60663491 bytes (57.7%,    0.7s remaining) ...done. (2 seconds, 0 min)\n",
            "Extracting data from /root/nilearn_data/adhd/166bfb3ae13f7c60c012aa2194eef088/adhd40_1562298.tgz..... done.\n"
          ]
        },
        {
          "output_type": "stream",
          "name": "stdout",
          "text": [
            "Downloading data from https://www.nitrc.org/frs/download.php/7798/adhd40_1679142.tgz ...\n"
          ]
        },
        {
          "output_type": "stream",
          "name": "stderr",
          "text": [
            " ...done. (1 seconds, 0 min)\n",
            "Extracting data from /root/nilearn_data/adhd/166bfb3ae13f7c60c012aa2194eef088/adhd40_1679142.tgz..... done.\n"
          ]
        },
        {
          "output_type": "stream",
          "name": "stdout",
          "text": [
            "Downloading data from https://www.nitrc.org/frs/download.php/7799/adhd40_2014113.tgz ...\n"
          ]
        },
        {
          "output_type": "stream",
          "name": "stderr",
          "text": [
            " ...done. (1 seconds, 0 min)\n",
            "Extracting data from /root/nilearn_data/adhd/166bfb3ae13f7c60c012aa2194eef088/adhd40_2014113.tgz..... done.\n"
          ]
        },
        {
          "output_type": "stream",
          "name": "stdout",
          "text": [
            "Downloading data from https://www.nitrc.org/frs/download.php/7800/adhd40_2497695.tgz ...\n"
          ]
        },
        {
          "output_type": "stream",
          "name": "stderr",
          "text": [
            "\rDownloaded 34988032 of 45455025 bytes (77.0%,    0.3s remaining) ...done. (1 seconds, 0 min)\n",
            "Extracting data from /root/nilearn_data/adhd/166bfb3ae13f7c60c012aa2194eef088/adhd40_2497695.tgz..... done.\n"
          ]
        },
        {
          "output_type": "stream",
          "name": "stdout",
          "text": [
            "Downloading data from https://www.nitrc.org/frs/download.php/7801/adhd40_2950754.tgz ...\n"
          ]
        },
        {
          "output_type": "stream",
          "name": "stderr",
          "text": [
            "\rDownloaded 34652160 of 57992968 bytes (59.8%,    0.7s remaining) ...done. (2 seconds, 0 min)\n",
            "Extracting data from /root/nilearn_data/adhd/166bfb3ae13f7c60c012aa2194eef088/adhd40_2950754.tgz..... done.\n"
          ]
        },
        {
          "output_type": "stream",
          "name": "stdout",
          "text": [
            "Downloading data from https://www.nitrc.org/frs/download.php/7802/adhd40_3007585.tgz ...\n"
          ]
        },
        {
          "output_type": "stream",
          "name": "stderr",
          "text": [
            "Downloaded 67297280 of 67925261 bytes (99.1%,    0.0s remaining) ...done. (2 seconds, 0 min)\n",
            "Extracting data from /root/nilearn_data/adhd/166bfb3ae13f7c60c012aa2194eef088/adhd40_3007585.tgz..... done.\n"
          ]
        },
        {
          "output_type": "stream",
          "name": "stdout",
          "text": [
            "Downloading data from https://www.nitrc.org/frs/download.php/7803/adhd40_3154996.tgz ...\n"
          ]
        },
        {
          "output_type": "stream",
          "name": "stderr",
          "text": [
            "\rDownloaded 32235520 of 32919780 bytes (97.9%,    0.0s remaining) ...done. (1 seconds, 0 min)\n",
            "Extracting data from /root/nilearn_data/adhd/166bfb3ae13f7c60c012aa2194eef088/adhd40_3154996.tgz..... done.\n"
          ]
        },
        {
          "output_type": "stream",
          "name": "stdout",
          "text": [
            "Downloading data from https://www.nitrc.org/frs/download.php/7804/adhd40_3205761.tgz ...\n"
          ]
        },
        {
          "output_type": "stream",
          "name": "stderr",
          "text": [
            "\rDownloaded 34914304 of 59835286 bytes (58.4%,    0.7s remaining) ...done. (2 seconds, 0 min)\n",
            "Extracting data from /root/nilearn_data/adhd/166bfb3ae13f7c60c012aa2194eef088/adhd40_3205761.tgz..... done.\n"
          ]
        },
        {
          "output_type": "stream",
          "name": "stdout",
          "text": [
            "Downloading data from https://www.nitrc.org/frs/download.php/7805/adhd40_3520880.tgz ...\n"
          ]
        },
        {
          "output_type": "stream",
          "name": "stderr",
          "text": [
            "\rDownloaded 33366016 of 61857076 bytes (53.9%,    0.9s remaining) ...done. (2 seconds, 0 min)\n",
            "Extracting data from /root/nilearn_data/adhd/166bfb3ae13f7c60c012aa2194eef088/adhd40_3520880.tgz..... done.\n"
          ]
        },
        {
          "output_type": "stream",
          "name": "stdout",
          "text": [
            "Downloading data from https://www.nitrc.org/frs/download.php/7806/adhd40_3624598.tgz ...\n"
          ]
        },
        {
          "output_type": "stream",
          "name": "stderr",
          "text": [
            "\rDownloaded 33980416 of 59385206 bytes (57.2%,    0.8s remaining) ...done. (2 seconds, 0 min)\n",
            "Extracting data from /root/nilearn_data/adhd/166bfb3ae13f7c60c012aa2194eef088/adhd40_3624598.tgz..... done.\n"
          ]
        },
        {
          "output_type": "stream",
          "name": "stdout",
          "text": [
            "Downloading data from https://www.nitrc.org/frs/download.php/7807/adhd40_3699991.tgz ...\n"
          ]
        },
        {
          "output_type": "stream",
          "name": "stderr",
          "text": [
            "\rDownloaded 33193984 of 41518251 bytes (80.0%,    0.3s remaining) ...done. (1 seconds, 0 min)\n",
            "Extracting data from /root/nilearn_data/adhd/166bfb3ae13f7c60c012aa2194eef088/adhd40_3699991.tgz..... done.\n"
          ]
        },
        {
          "output_type": "stream",
          "name": "stdout",
          "text": [
            "Downloading data from https://www.nitrc.org/frs/download.php/7808/adhd40_3884955.tgz ...\n"
          ]
        },
        {
          "output_type": "stream",
          "name": "stderr",
          "text": [
            " ...done. (1 seconds, 0 min)\n",
            "Extracting data from /root/nilearn_data/adhd/166bfb3ae13f7c60c012aa2194eef088/adhd40_3884955.tgz..... done.\n"
          ]
        },
        {
          "output_type": "stream",
          "name": "stdout",
          "text": [
            "Downloading data from https://www.nitrc.org/frs/download.php/7809/adhd40_3902469.tgz ...\n"
          ]
        },
        {
          "output_type": "stream",
          "name": "stderr",
          "text": [
            "\rDownloaded 35651584 of 39415752 bytes (90.5%,    0.1s remaining) ...done. (1 seconds, 0 min)\n",
            "Extracting data from /root/nilearn_data/adhd/166bfb3ae13f7c60c012aa2194eef088/adhd40_3902469.tgz..... done.\n"
          ]
        },
        {
          "output_type": "stream",
          "name": "stdout",
          "text": [
            "Downloading data from https://www.nitrc.org/frs/download.php/7810/adhd40_3994098.tgz ...\n"
          ]
        },
        {
          "output_type": "stream",
          "name": "stderr",
          "text": [
            "\rDownloaded 35577856 of 59297020 bytes (60.0%,    0.7s remaining) ...done. (2 seconds, 0 min)\n",
            "Extracting data from /root/nilearn_data/adhd/166bfb3ae13f7c60c012aa2194eef088/adhd40_3994098.tgz..... done.\n"
          ]
        },
        {
          "output_type": "stream",
          "name": "stdout",
          "text": [
            "Downloading data from https://www.nitrc.org/frs/download.php/7811/adhd40_4016887.tgz ...\n"
          ]
        },
        {
          "output_type": "stream",
          "name": "stderr",
          "text": [
            " ...done. (1 seconds, 0 min)\n",
            "Extracting data from /root/nilearn_data/adhd/166bfb3ae13f7c60c012aa2194eef088/adhd40_4016887.tgz..... done.\n"
          ]
        },
        {
          "output_type": "stream",
          "name": "stdout",
          "text": [
            "Downloading data from https://www.nitrc.org/frs/download.php/7812/adhd40_4046678.tgz ...\n"
          ]
        },
        {
          "output_type": "stream",
          "name": "stderr",
          "text": [
            " ...done. (1 seconds, 0 min)\n",
            "Extracting data from /root/nilearn_data/adhd/166bfb3ae13f7c60c012aa2194eef088/adhd40_4046678.tgz..... done.\n"
          ]
        },
        {
          "output_type": "stream",
          "name": "stdout",
          "text": [
            "Downloading data from https://www.nitrc.org/frs/download.php/7813/adhd40_4134561.tgz ...\n"
          ]
        },
        {
          "output_type": "stream",
          "name": "stderr",
          "text": [
            "Downloaded 69074944 of 69914913 bytes (98.8%,    0.0s remaining) ...done. (2 seconds, 0 min)\n",
            "Extracting data from /root/nilearn_data/adhd/166bfb3ae13f7c60c012aa2194eef088/adhd40_4134561.tgz..... done.\n"
          ]
        },
        {
          "output_type": "stream",
          "name": "stdout",
          "text": [
            "Downloading data from https://www.nitrc.org/frs/download.php/7814/adhd40_4164316.tgz ...\n"
          ]
        },
        {
          "output_type": "stream",
          "name": "stderr",
          "text": [
            "\rDownloaded 32063488 of 45506732 bytes (70.5%,    0.4s remaining) ...done. (2 seconds, 0 min)\n",
            "Extracting data from /root/nilearn_data/adhd/166bfb3ae13f7c60c012aa2194eef088/adhd40_4164316.tgz..... done.\n"
          ]
        },
        {
          "output_type": "stream",
          "name": "stdout",
          "text": [
            "Downloading data from https://www.nitrc.org/frs/download.php/7815/adhd40_4275075.tgz ...\n"
          ]
        },
        {
          "output_type": "stream",
          "name": "stderr",
          "text": [
            " ...done. (1 seconds, 0 min)\n",
            "Extracting data from /root/nilearn_data/adhd/166bfb3ae13f7c60c012aa2194eef088/adhd40_4275075.tgz..... done.\n"
          ]
        },
        {
          "output_type": "stream",
          "name": "stdout",
          "text": [
            "Downloading data from https://www.nitrc.org/frs/download.php/7816/adhd40_6115230.tgz ...\n"
          ]
        },
        {
          "output_type": "stream",
          "name": "stderr",
          "text": [
            "Downloaded 69189632 of 73484949 bytes (94.2%,    0.1s remaining) ...done. (2 seconds, 0 min)\n",
            "Extracting data from /root/nilearn_data/adhd/166bfb3ae13f7c60c012aa2194eef088/adhd40_6115230.tgz..... done.\n"
          ]
        },
        {
          "output_type": "stream",
          "name": "stdout",
          "text": [
            "Downloading data from https://www.nitrc.org/frs/download.php/7817/adhd40_7774305.tgz ...\n"
          ]
        },
        {
          "output_type": "stream",
          "name": "stderr",
          "text": [
            "\rDownloaded 32219136 of 42188959 bytes (76.4%,    0.3s remaining) ...done. (1 seconds, 0 min)\n",
            "Extracting data from /root/nilearn_data/adhd/166bfb3ae13f7c60c012aa2194eef088/adhd40_7774305.tgz..... done.\n"
          ]
        },
        {
          "output_type": "stream",
          "name": "stdout",
          "text": [
            "Downloading data from https://www.nitrc.org/frs/download.php/7818/adhd40_8409791.tgz ...\n"
          ]
        },
        {
          "output_type": "stream",
          "name": "stderr",
          "text": [
            "Downloaded 68534272 of 70396354 bytes (97.4%,    0.1s remaining) ...done. (2 seconds, 0 min)\n",
            "Extracting data from /root/nilearn_data/adhd/166bfb3ae13f7c60c012aa2194eef088/adhd40_8409791.tgz..... done.\n"
          ]
        },
        {
          "output_type": "stream",
          "name": "stdout",
          "text": [
            "Downloading data from https://www.nitrc.org/frs/download.php/7819/adhd40_8697774.tgz ...\n"
          ]
        },
        {
          "output_type": "stream",
          "name": "stderr",
          "text": [
            "\rDownloaded 31547392 of 45075978 bytes (70.0%,    0.4s remaining) ...done. (2 seconds, 0 min)\n",
            "Extracting data from /root/nilearn_data/adhd/166bfb3ae13f7c60c012aa2194eef088/adhd40_8697774.tgz..... done.\n"
          ]
        },
        {
          "output_type": "stream",
          "name": "stdout",
          "text": [
            "Downloading data from https://www.nitrc.org/frs/download.php/7820/adhd40_9744150.tgz ...\n"
          ]
        },
        {
          "output_type": "stream",
          "name": "stderr",
          "text": [
            "\rDownloaded 33955840 of 63380505 bytes (53.6%,    0.9s remaining) ...done. (2 seconds, 0 min)\n",
            "Extracting data from /root/nilearn_data/adhd/166bfb3ae13f7c60c012aa2194eef088/adhd40_9744150.tgz..... done.\n"
          ]
        },
        {
          "output_type": "stream",
          "name": "stdout",
          "text": [
            "Downloading data from https://www.nitrc.org/frs/download.php/7821/adhd40_9750701.tgz ...\n"
          ]
        },
        {
          "output_type": "stream",
          "name": "stderr",
          "text": [
            "\rDownloaded 22659072 of 46607053 bytes (48.6%,    1.1s remaining) ...done. (2 seconds, 0 min)\n",
            "Extracting data from /root/nilearn_data/adhd/166bfb3ae13f7c60c012aa2194eef088/adhd40_9750701.tgz..... done.\n"
          ]
        }
      ],
      "source": [
        "from nilearn import datasets\n",
        "num = 40\n",
        "adhd_data = datasets.fetch_adhd(n_subjects=num) #reads the fMRI dataset"
      ]
    },
    {
      "cell_type": "code",
      "execution_count": null,
      "metadata": {
        "id": "-NVNCUC1BcIC",
        "colab": {
          "base_uri": "https://localhost:8080/"
        },
        "outputId": "e344d48b-a3eb-4ce7-d63e-04d4aa512ed9"
      },
      "outputs": [
        {
          "output_type": "stream",
          "name": "stdout",
          "text": [
            "/content/drive/MyDrive\n"
          ]
        }
      ],
      "source": [
        "%cd /content/drive/MyDrive/"
      ]
    },
    {
      "cell_type": "code",
      "execution_count": null,
      "metadata": {
        "id": "Q3RgLP6eAk0J"
      },
      "outputs": [],
      "source": [
        "pheno = pd.read_csv('phenotypics/adhd200_preprocessed_phenotypics.tsv', sep='\\t')"
      ]
    },
    {
      "cell_type": "code",
      "execution_count": null,
      "metadata": {
        "id": "OB0FvTTsBHpP",
        "colab": {
          "base_uri": "https://localhost:8080/"
        },
        "outputId": "726eacfa-48d4-40b5-e8c0-c538c4b03301"
      },
      "outputs": [
        {
          "output_type": "execute_result",
          "data": {
            "text/plain": [
              "237"
            ]
          },
          "metadata": {},
          "execution_count": 6
        }
      ],
      "source": [
        "import os\n",
        "DIR = \"fmri_ohsu\"\n",
        "\n",
        "ohsu = [DIR + \"/\" + entry for entry in os.listdir(DIR) if os.path.isfile(os.path.join(DIR, entry))]\n",
        "\n",
        "ohsu = ohsu[1:]\n",
        "\n",
        "len(ohsu)"
      ]
    },
    {
      "cell_type": "code",
      "execution_count": null,
      "metadata": {
        "id": "t5AjS3aFCMYG",
        "colab": {
          "base_uri": "https://localhost:8080/"
        },
        "outputId": "3eb62d08-e745-4848-a830-6ef4dad57b02"
      },
      "outputs": [
        {
          "output_type": "execute_result",
          "data": {
            "text/plain": [
              "48"
            ]
          },
          "metadata": {},
          "execution_count": 7
        }
      ],
      "source": [
        "import os\n",
        "DIR = \"fmri_neuroimage\"\n",
        "\n",
        "neuroimage = [DIR + \"/\" + entry for entry in os.listdir(DIR) if os.path.isfile(os.path.join(DIR, entry))]\n",
        "len(neuroimage)"
      ]
    },
    {
      "cell_type": "code",
      "execution_count": null,
      "metadata": {
        "id": "8_UgsisECSdI",
        "colab": {
          "base_uri": "https://localhost:8080/"
        },
        "outputId": "eca03cdd-ee0b-4124-eec6-ae1e717ea0f2"
      },
      "outputs": [
        {
          "output_type": "execute_result",
          "data": {
            "text/plain": [
              "89"
            ]
          },
          "metadata": {},
          "execution_count": 8
        }
      ],
      "source": [
        "import os\n",
        "DIR = \"fmri-pittsburgh\"\n",
        "\n",
        "pittsburgh = [DIR + \"/\" + entry for entry in os.listdir(DIR) if os.path.isfile(os.path.join(DIR, entry))]\n",
        "len(pittsburgh)"
      ]
    },
    {
      "cell_type": "code",
      "execution_count": null,
      "metadata": {
        "id": "XX7KTmGHCdkF",
        "colab": {
          "base_uri": "https://localhost:8080/"
        },
        "outputId": "c3c78356-de6c-4f43-a8b3-87ae6b436771"
      },
      "outputs": [
        {
          "output_type": "execute_result",
          "data": {
            "text/plain": [
              "194"
            ]
          },
          "metadata": {},
          "execution_count": 9
        }
      ],
      "source": [
        "import os\n",
        "DIR = \"fmri_peking\"\n",
        "\n",
        "peking = [DIR + \"/\" + entry for entry in os.listdir(DIR) if os.path.isfile(os.path.join(DIR, entry))]\n",
        "len(peking)"
      ]
    },
    {
      "cell_type": "code",
      "execution_count": null,
      "metadata": {
        "id": "9SyzjqWgCnJG",
        "colab": {
          "base_uri": "https://localhost:8080/"
        },
        "outputId": "19fae9c5-056a-4070-a913-7a39926b8840"
      },
      "outputs": [
        {
          "output_type": "execute_result",
          "data": {
            "text/plain": [
              "79"
            ]
          },
          "metadata": {},
          "execution_count": 10
        }
      ],
      "source": [
        "ohsuu = []\n",
        "for i in range(len(ohsu)):\n",
        "  if ohsu[i].split(\"_\")[-1].split(\".\")[0] == 'run1':\n",
        "    ohsuu.append(ohsu[i])\n",
        "\n",
        "len(ohsuu)"
      ]
    },
    {
      "cell_type": "code",
      "execution_count": null,
      "metadata": {
        "id": "Vf17CGobvZdY",
        "colab": {
          "base_uri": "https://localhost:8080/"
        },
        "outputId": "ecf58796-f0ec-4c57-cc06-0f06a2a9a241"
      },
      "outputs": [
        {
          "output_type": "execute_result",
          "data": {
            "text/plain": [
              "321"
            ]
          },
          "metadata": {},
          "execution_count": 11
        }
      ],
      "source": [
        "func = ohsuu + neuroimage + peking\n",
        "\n",
        "len(func)"
      ]
    },
    {
      "cell_type": "code",
      "execution_count": null,
      "metadata": {
        "id": "50PjUtlavhrF"
      },
      "outputs": [],
      "source": [
        "IDs = []\n",
        "\n",
        "for i in range(len(func)):\n",
        "  IDs.append(np.int64(func[i].split(\"_\")[3]))"
      ]
    },
    {
      "cell_type": "code",
      "source": [
        "IDs_sort = sorted(IDs)\n",
        "\n",
        "funcy = []\n",
        "for elem in IDs_sort:\n",
        "  for i in range(len(IDs_sort)):\n",
        "    if np.int64(func[i].split(\"_\")[3]) == elem:\n",
        "      funcy.append(func[i])\n",
        "  "
      ],
      "metadata": {
        "id": "iM87AU7hmyfA"
      },
      "execution_count": null,
      "outputs": []
    },
    {
      "cell_type": "code",
      "source": [
        "IsDs = []\n",
        "\n",
        "for i in range(len(funcy)):\n",
        "  IsDs.append(np.int64(funcy[i].split(\"_\")[3]))"
      ],
      "metadata": {
        "id": "4Nku7vZqnNWp"
      },
      "execution_count": null,
      "outputs": []
    },
    {
      "cell_type": "code",
      "execution_count": null,
      "metadata": {
        "id": "JqhhrgO9xahR",
        "colab": {
          "base_uri": "https://localhost:8080/"
        },
        "outputId": "707f0f0d-8bc0-48b4-f705-81f2e74ae044"
      },
      "outputs": [
        {
          "output_type": "execute_result",
          "data": {
            "text/plain": [
              "[67]"
            ]
          },
          "metadata": {},
          "execution_count": 15
        }
      ],
      "source": [
        "err = []\n",
        "for i in range(len(IDs)):\n",
        "  if IDs[i] == 4072305:\n",
        "    err.append(i)\n",
        "\n",
        "err"
      ]
    },
    {
      "cell_type": "markdown",
      "metadata": {
        "id": "I2FkdTVzvm8I"
      },
      "source": [
        "Pheno tsv"
      ]
    },
    {
      "cell_type": "code",
      "execution_count": null,
      "metadata": {
        "id": "DVBjS_Y9oVxp",
        "colab": {
          "base_uri": "https://localhost:8080/"
        },
        "outputId": "863400b4-db10-4cf9-991e-7446040f09d0"
      },
      "outputs": [
        {
          "output_type": "execute_result",
          "data": {
            "text/plain": [
              "numpy.int64"
            ]
          },
          "metadata": {},
          "execution_count": 16
        }
      ],
      "source": [
        "type(pheno[\"ScanDir ID\"][0])"
      ]
    },
    {
      "cell_type": "code",
      "execution_count": null,
      "metadata": {
        "id": "mblMWbCHED4C",
        "colab": {
          "base_uri": "https://localhost:8080/"
        },
        "outputId": "79f2f880-4317-44c2-e1b3-00cc11e41770"
      },
      "outputs": [
        {
          "output_type": "execute_result",
          "data": {
            "text/plain": [
              "113"
            ]
          },
          "metadata": {},
          "execution_count": 17
        }
      ],
      "source": [
        "site_ohsu = int(pheno[pheno[\"ScanDir ID\"] == 1084283][\"Site\"])\n",
        "\n",
        "pheno_ohsu = pheno[pheno[\"Site\"] == site_ohsu]\n",
        "\n",
        "pheno_ohsu = pheno_ohsu.reset_index()\n",
        "\n",
        "len(pheno_ohsu)"
      ]
    },
    {
      "cell_type": "code",
      "execution_count": null,
      "metadata": {
        "id": "jv8n5YTPJCJu",
        "colab": {
          "base_uri": "https://localhost:8080/"
        },
        "outputId": "2d8b415f-f12e-405c-e5ae-2ba91546b93e"
      },
      "outputs": [
        {
          "output_type": "execute_result",
          "data": {
            "text/plain": [
              "4"
            ]
          },
          "metadata": {},
          "execution_count": 18
        }
      ],
      "source": [
        "int(pheno[pheno[\"ScanDir ID\"] == 1017176][\"Site\"])"
      ]
    },
    {
      "cell_type": "code",
      "execution_count": null,
      "metadata": {
        "id": "6SAhcwuKErNH",
        "colab": {
          "base_uri": "https://localhost:8080/"
        },
        "outputId": "d512a35c-ad21-4d5a-bb9c-b6a1cc3b6b19"
      },
      "outputs": [
        {
          "output_type": "execute_result",
          "data": {
            "text/plain": [
              "73"
            ]
          },
          "metadata": {},
          "execution_count": 19
        }
      ],
      "source": [
        "site_neuroimage = int(pheno[pheno[\"ScanDir ID\"] == 1017176][\"Site\"])\n",
        "\n",
        "pheno_neuroimage = pheno[pheno[\"Site\"] == site_neuroimage]\n",
        "\n",
        "pheno_neuroimage = pheno_neuroimage.reset_index()\n",
        "\n",
        "len(pheno_neuroimage)"
      ]
    },
    {
      "cell_type": "code",
      "execution_count": null,
      "metadata": {
        "id": "c8LVT5mSFnjR",
        "colab": {
          "base_uri": "https://localhost:8080/"
        },
        "outputId": "d082a607-2c5a-4453-d495-0899af1bc72e"
      },
      "outputs": [
        {
          "output_type": "execute_result",
          "data": {
            "text/plain": [
              "245"
            ]
          },
          "metadata": {},
          "execution_count": 20
        }
      ],
      "source": [
        "site_peking = int(pheno[pheno[\"ScanDir ID\"] == 1050345][\"Site\"])\n",
        "\n",
        "pheno_peking = pheno[pheno[\"Site\"] == site_peking]\n",
        "\n",
        "pheno_peking = pheno_peking.reset_index()\n",
        "\n",
        "len(pheno_peking)"
      ]
    },
    {
      "cell_type": "code",
      "source": [
        "int(pheno[pheno[\"ScanDir ID\"] == 1050345][\"Site\"])"
      ],
      "metadata": {
        "colab": {
          "base_uri": "https://localhost:8080/"
        },
        "id": "1RpZQVZgnM2_",
        "outputId": "1e0fb557-520b-469b-9803-bf4101e0a0cb"
      },
      "execution_count": null,
      "outputs": [
        {
          "output_type": "execute_result",
          "data": {
            "text/plain": [
              "1"
            ]
          },
          "metadata": {},
          "execution_count": 21
        }
      ]
    },
    {
      "cell_type": "code",
      "execution_count": null,
      "metadata": {
        "id": "LmGnSRLCoDHQ"
      },
      "outputs": [],
      "source": [
        "diag = pd.concat([pheno_ohsu, pheno_neuroimage, pheno_peking], axis = 0)\n",
        "\n",
        "diag = diag.reset_index()"
      ]
    },
    {
      "cell_type": "code",
      "execution_count": null,
      "metadata": {
        "id": "0bNYkooYI0-f",
        "colab": {
          "base_uri": "https://localhost:8080/"
        },
        "outputId": "cdb71d88-1b92-4c61-ab47-525206366300"
      },
      "outputs": [
        {
          "output_type": "execute_result",
          "data": {
            "text/plain": [
              "(array([], dtype=int64),)"
            ]
          },
          "metadata": {},
          "execution_count": 23
        }
      ],
      "source": [
        "np.where(np.isnan(pheno_peking[\"Verbal IQ\"]))"
      ]
    },
    {
      "cell_type": "markdown",
      "metadata": {
        "id": "Yu39WoxjvqjX"
      },
      "source": [
        "Matching them"
      ]
    },
    {
      "cell_type": "code",
      "execution_count": null,
      "metadata": {
        "id": "7a2A4m2qyHr0"
      },
      "outputs": [],
      "source": [
        "#Last cell in matching\n",
        "df_pheno = pd.DataFrame()\n",
        "\n",
        "for elem in IDs_sort:\n",
        "  for i in range(len(diag)):\n",
        "    if diag.loc[i,\"ScanDir ID\"] == elem:\n",
        "      df_pheno = df_pheno.append(diag.iloc[i,:], ignore_index = True)\n",
        "\n"
      ]
    },
    {
      "cell_type": "code",
      "source": [
        "IDs_match = []\n",
        "for i in list(df_pheno[\"ScanDir ID\"]):\n",
        "  IDs_match.append(int(i))"
      ],
      "metadata": {
        "id": "G73jCSEOkTt2"
      },
      "execution_count": null,
      "outputs": []
    },
    {
      "cell_type": "code",
      "source": [
        "IDs_match == IsDs"
      ],
      "metadata": {
        "colab": {
          "base_uri": "https://localhost:8080/"
        },
        "id": "I8kQiXfeo7X5",
        "outputId": "d448112b-da09-4710-816a-886f30eac5ad"
      },
      "execution_count": null,
      "outputs": [
        {
          "output_type": "execute_result",
          "data": {
            "text/plain": [
              "True"
            ]
          },
          "metadata": {},
          "execution_count": 26
        }
      ]
    },
    {
      "cell_type": "code",
      "source": [
        "pekingy = df_pheno[df_pheno[\"Site\"] == 1].index\n",
        "\n",
        "pekingy = np.array(pekingy)\n",
        "\n",
        "pekingy_pheno = df_pheno[df_pheno[\"Site\"] == 1]"
      ],
      "metadata": {
        "id": "6Fq8gNffm8b4"
      },
      "execution_count": null,
      "outputs": []
    },
    {
      "cell_type": "code",
      "source": [
        "df_pheno[\"Verbal IQ\"] = df_pheno[\"Verbal IQ\"].apply(pd.to_numeric, errors='coerce')\n",
        "df_pheno[\"Performance IQ\"] = df_pheno[\"Performance IQ\"].apply(pd.to_numeric, errors='coerce')\n",
        "df_pheno[\"Full4 IQ\"] = df_pheno[\"Full4 IQ\"].apply(pd.to_numeric, errors='coerce')\n",
        "df_pheno[\"Handedness\"] = df_pheno[\"Handedness\"].apply(pd.to_numeric, errors='coerce')\n",
        "\n",
        "phenotypic = df_pheno[[\"Performance IQ\"]]\n",
        "phenotypic = np.array(phenotypic)"
      ],
      "metadata": {
        "id": "bMo6AzLHsPlF"
      },
      "execution_count": null,
      "outputs": []
    },
    {
      "cell_type": "code",
      "execution_count": null,
      "metadata": {
        "id": "JMxpz7-qIMZa",
        "colab": {
          "base_uri": "https://localhost:8080/"
        },
        "outputId": "099e38db-1967-42e7-b195-721e30519bad"
      },
      "outputs": [
        {
          "output_type": "execute_result",
          "data": {
            "text/plain": [
              "321"
            ]
          },
          "metadata": {},
          "execution_count": 29
        }
      ],
      "source": [
        "y = np.array(df_pheno[\"DX\"])\n",
        "\n",
        "for i in range(len(y)):\n",
        "  if y[i] == \"1\" or y[i] == \"2\" or y[i] == \"3\":\n",
        "    y[i] = \"1\"\n",
        "\n",
        "y = y.astype(int)\n",
        "\n",
        "len(y)"
      ]
    },
    {
      "cell_type": "code",
      "source": [
        "y_peking = y[np.ix_(list(pekingy))]\n",
        "\n",
        "len(y_peking)"
      ],
      "metadata": {
        "colab": {
          "base_uri": "https://localhost:8080/"
        },
        "id": "dHucLyC_n3UB",
        "outputId": "f748e332-44e6-4b7e-807e-1f8a8f598996"
      },
      "execution_count": null,
      "outputs": [
        {
          "output_type": "execute_result",
          "data": {
            "text/plain": [
              "194"
            ]
          },
          "metadata": {},
          "execution_count": 30
        }
      ]
    },
    {
      "cell_type": "markdown",
      "metadata": {
        "id": "Q6VBtdsiSSak"
      },
      "source": [
        "DictLearn"
      ]
    },
    {
      "cell_type": "code",
      "execution_count": null,
      "metadata": {
        "id": "7QBVOU8nHA--",
        "colab": {
          "base_uri": "https://localhost:8080/",
          "height": 347
        },
        "outputId": "d62c4ee4-ff1b-48b2-fc4d-fca37ce33995"
      },
      "outputs": [
        {
          "output_type": "stream",
          "name": "stderr",
          "text": [
            "/usr/local/lib/python3.7/dist-packages/nilearn/plotting/img_plotting.py:300: FutureWarning: Default resolution of the MNI template will change from 2mm to 1mm in version 0.10.0\n",
            "  anat_img = load_mni152_template()\n",
            "/usr/local/lib/python3.7/dist-packages/nilearn/plotting/displays/_axes.py:73: UserWarning: No contour levels were found within the data range.\n",
            "  **kwargs)\n",
            "/usr/local/lib/python3.7/dist-packages/nilearn/plotting/displays/_axes.py:73: UserWarning: linewidths is ignored by contourf\n",
            "  **kwargs)\n"
          ]
        },
        {
          "output_type": "execute_result",
          "data": {
            "text/plain": [
              "<nilearn.plotting.displays._slicers.OrthoSlicer at 0x7f9b9cdaf7d0>"
            ]
          },
          "metadata": {},
          "execution_count": 31
        },
        {
          "output_type": "display_data",
          "data": {
            "text/plain": [
              "<Figure size 475.2x187.2 with 4 Axes>"
            ],
            "image/png": "[encoded data removed]"
          },
          "metadata": {}
        }
      ],
      "source": [
        "from nilearn.decomposition import DictLearning\n",
        "\n",
        "# Initialize DictLearning object\n",
        "dict_learn = DictLearning(n_components=8, smoothing_fwhm=6.,\n",
        "                          memory=\"nilearn_cache\", memory_level=2,\n",
        "                          random_state=0)\n",
        "# Fit to the data\n",
        "dict_learn.fit(adhd_data.func)\n",
        "# Resting state networks/maps in attribute `components_img_`\n",
        "components_img = dict_learn.components_img_\n",
        "\n",
        "# Visualization of functional networks\n",
        "from nilearn import plotting\n",
        "\n",
        "plotting.plot_prob_atlas(components_img, view_type='filled_contours',\n",
        "                         title='Dictionary Learning maps')"
      ]
    },
    {
      "cell_type": "code",
      "execution_count": null,
      "metadata": {
        "id": "OeMxN0M8Q84Q",
        "colab": {
          "base_uri": "https://localhost:8080/",
          "height": 273
        },
        "outputId": "51987e78-72c9-4d50-fb9d-e9db94090142"
      },
      "outputs": [
        {
          "output_type": "stream",
          "name": "stderr",
          "text": [
            "/usr/local/lib/python3.7/dist-packages/numpy/ma/core.py:2830: UserWarning: Warning: converting a masked element to nan.\n",
            "  order=order, subok=True, ndmin=ndmin)\n"
          ]
        },
        {
          "output_type": "execute_result",
          "data": {
            "text/plain": [
              "<nilearn.plotting.displays._slicers.OrthoSlicer at 0x7f9b9ad09d10>"
            ]
          },
          "metadata": {},
          "execution_count": 32
        },
        {
          "output_type": "display_data",
          "data": {
            "text/plain": [
              "<Figure size 475.2x187.2 with 4 Axes>"
            ],
            "image/png": "[encoded data removed]"
          },
          "metadata": {}
        }
      ],
      "source": [
        "from nilearn.regions import RegionExtractor\n",
        "\n",
        "extractor = RegionExtractor(components_img, threshold=0.5,\n",
        "                            thresholding_strategy='ratio_n_voxels',\n",
        "                            extractor='local_regions',\n",
        "                            standardize=True, min_region_size=1350)\n",
        "extractor.fit()\n",
        "# Extracted regions are stored in regions_img_\n",
        "regions_extracted_img = extractor.regions_img_\n",
        "# Each region index is stored in index_\n",
        "regions_index = extractor.index_\n",
        "# Total number of regions extracted\n",
        "n_regions_extracted = regions_extracted_img.shape[-1]\n",
        "\n",
        "# Visualization of region extraction results\n",
        "title = ('%d regions are extracted from %d components.'\n",
        "         '\\nEach separate color of region indicates extracted region'\n",
        "         % (n_regions_extracted, 8))\n",
        "plotting.plot_prob_atlas(regions_extracted_img, view_type='filled_contours',\n",
        "                         title=title)"
      ]
    },
    {
      "cell_type": "code",
      "execution_count": null,
      "metadata": {
        "id": "EOW7_MjNSFge"
      },
      "outputs": [],
      "source": [
        "from nilearn.connectome import ConnectivityMeasure\n",
        "\n",
        "correlations = []\n",
        "# Initializing ConnectivityMeasure object with kind='correlation'\n",
        "connectome_measure = ConnectivityMeasure(kind='correlation')\n",
        "for filename in funcy:\n",
        "    # call transform from RegionExtractor object to extract timeseries signals\n",
        "    timeseries_each_subject = extractor.transform(filename)\n",
        "    # call fit_transform from ConnectivityMeasure object\n",
        "    correlation = connectome_measure.fit_transform([timeseries_each_subject])\n",
        "    # saving each subject correlation to correlations\n",
        "    correlations.append(correlation)\n",
        "\n",
        "# Mean of all correlations\n",
        "import numpy as np\n",
        "mean_correlations = np.mean(correlations, axis=0).reshape(n_regions_extracted,\n",
        "                                                          n_regions_extracted)"
      ]
    },
    {
      "cell_type": "markdown",
      "source": [
        "At this step I visually inspected the outputs and selected the indices below to correspond to my two networks of interest. I am fitting the DictLearn object to a small subset of the data (25%) because of the computationally extensive time."
      ],
      "metadata": {
        "id": "Ssi0Oq-mxFBh"
      }
    },
    {
      "cell_type": "code",
      "execution_count": null,
      "metadata": {
        "id": "mZTF5tvdbXfG",
        "colab": {
          "base_uri": "https://localhost:8080/"
        },
        "outputId": "679f54ab-abad-4bbd-da68-245d48e9bc79"
      },
      "outputs": [
        {
          "output_type": "execute_result",
          "data": {
            "text/plain": [
              "(321, 5, 5)"
            ]
          },
          "metadata": {},
          "execution_count": 34
        }
      ],
      "source": [
        "np.shape(correlations)\n",
        "\n",
        "corrs = np.array(correlations)\n",
        "\n",
        "corrs = corrs.reshape(len(func), n_regions_extracted, n_regions_extracted)\n",
        "\n",
        "here = np.array([10, 13, 14, 17, 32])\n",
        "here2 = np.array([37, 36, 35, 5, 8,  7, 18, 19, 20])\n",
        "here_2 = np.array([10, 13, 14, 17, 32, 37, 36, 35, 5, 8,  7, 18, 19, 20])\n",
        "\n",
        "\n",
        "DMN_conn = corrs[np.ix_(list(range(len(func))), here, here)]\n",
        "\n",
        "ATT_conn = corrs[np.ix_(list(range(len(func))), here2, here2)]\n",
        "\n",
        "ATT_DMN_conn = corrs[np.ix_(list(range(len(func))), here_2, here_2)]\n",
        "\n",
        "\n",
        "out = mean_correlations[np.ix_(here, here)]\n",
        "\n",
        "np.shape(DMN_conn)"
      ]
    },
    {
      "cell_type": "markdown",
      "metadata": {
        "id": "ZeI-oW14bt7Z"
      },
      "source": [
        "ICA"
      ]
    },
    {
      "cell_type": "code",
      "execution_count": null,
      "metadata": {
        "id": "HaKEzMdAbuv_",
        "colab": {
          "base_uri": "https://localhost:8080/"
        },
        "outputId": "bfc138ba-d47a-47f4-e9ae-748dc3c22c1a"
      },
      "outputs": [
        {
          "output_type": "execute_result",
          "data": {
            "text/plain": [
              "CanICA(mask_strategy='background')"
            ]
          },
          "metadata": {},
          "execution_count": 35
        }
      ],
      "source": [
        "from nilearn import decomposition\n",
        "from nilearn import plotting\n",
        "from nilearn import image\n",
        "\n",
        "\n",
        "canica = decomposition.CanICA(n_components=20, mask_strategy='background')\n",
        "canica.fit(adhd_data.func)"
      ]
    },
    {
      "cell_type": "code",
      "execution_count": null,
      "metadata": {
        "id": "2jv9Vnxhbx_J",
        "colab": {
          "base_uri": "https://localhost:8080/",
          "height": 329
        },
        "outputId": "f0215ecc-95fd-424d-e9a3-9b66f09c923e"
      },
      "outputs": [
        {
          "output_type": "stream",
          "name": "stderr",
          "text": [
            "/usr/local/lib/python3.7/dist-packages/nilearn/plotting/displays/_axes.py:73: UserWarning: linewidths is ignored by contourf\n",
            "  **kwargs)\n",
            "/usr/local/lib/python3.7/dist-packages/nilearn/plotting/displays/_axes.py:73: UserWarning: No contour levels were found within the data range.\n",
            "  **kwargs)\n",
            "/usr/local/lib/python3.7/dist-packages/numpy/ma/core.py:2830: UserWarning: Warning: converting a masked element to nan.\n",
            "  order=order, subok=True, ndmin=ndmin)\n"
          ]
        },
        {
          "output_type": "display_data",
          "data": {
            "text/plain": [
              "<Figure size 475.2x187.2 with 4 Axes>"
            ],
            "image/png": "[encoded data removed]"
          },
          "metadata": {}
        }
      ],
      "source": [
        "components = canica.components_\n",
        "\n",
        "#Using a masker to project into the 3D space\n",
        "components_img = canica.masker_.inverse_transform(components)\n",
        "\n",
        "#Plotting all the components\n",
        "plotting.plot_prob_atlas(components_img, title='All ICA components')\n",
        "plotting.show()"
      ]
    },
    {
      "cell_type": "code",
      "execution_count": null,
      "metadata": {
        "id": "NiHvYorxcEVZ",
        "colab": {
          "base_uri": "https://localhost:8080/"
        },
        "outputId": "744017a4-2535-43a6-80dc-104bae9b90dd"
      },
      "outputs": [
        {
          "output_type": "stream",
          "name": "stderr",
          "text": [
            "/usr/local/lib/python3.7/dist-packages/nilearn/input_data/__init__.py:27: FutureWarning: The import path 'nilearn.input_data' is deprecated in version 0.9. Importing from 'nilearn.input_data' will be possible at least until release 0.13.0. Please import from 'nilearn.maskers' instead.\n",
            "  warnings.warn(message, FutureWarning)\n"
          ]
        }
      ],
      "source": [
        "#Using a filter to extract the regions time series \n",
        "from nilearn import input_data\n",
        "masker = input_data.NiftiMapsMasker(components_img, smoothing_fwhm=6,\n",
        " standardize=False, detrend=True,\n",
        " t_r=2.5, low_pass=0.1,\n",
        " high_pass=0.01)\n",
        "#Computing the regions signals and extracting the phenotypic information of interest\n",
        "subjects = []\n",
        "adhds = []\n",
        "sites = []\n",
        "labels = []\n",
        "for func_file in funcy:\n",
        " time_series = masker.fit_transform(func_file)\n",
        " subjects.append(time_series)"
      ]
    },
    {
      "cell_type": "code",
      "execution_count": null,
      "metadata": {
        "id": "qnP2dbZJcTXF"
      },
      "outputs": [],
      "source": [
        "from nilearn.connectome import ConnectivityMeasure\n",
        "import matplotlib.pyplot as plt\n",
        "correlation_measure = ConnectivityMeasure(kind='correlation')\n",
        "correlation_matrices = correlation_measure.fit_transform(subjects)"
      ]
    },
    {
      "cell_type": "code",
      "execution_count": null,
      "metadata": {
        "id": "_uNecEoXnnCg",
        "colab": {
          "base_uri": "https://localhost:8080/"
        },
        "outputId": "5be7f620-500b-41c1-f0f1-6f3562f1787d"
      },
      "outputs": [
        {
          "output_type": "execute_result",
          "data": {
            "text/plain": [
              "(321, 20, 20)"
            ]
          },
          "metadata": {},
          "execution_count": 39
        }
      ],
      "source": [
        "np.shape(correlation_matrices)"
      ]
    },
    {
      "cell_type": "markdown",
      "source": [
        "K-means"
      ],
      "metadata": {
        "id": "_Konu36f3c1x"
      }
    },
    {
      "cell_type": "code",
      "source": [
        "#initializes the k-means object and fit it to the fMRI data\n",
        "from nilearn.regions import Parcellations\n",
        "import time\n",
        "\n",
        "start = time.time()\n",
        "kmeans = Parcellations(method='kmeans', n_parcels=20,\n",
        "                       standardize=True, smoothing_fwhm=10.,\n",
        "                       memory='nilearn_cache', memory_level=1,\n",
        "                       verbose=1)\n",
        "# Call fit on functional dataset\n",
        "kmeans.fit(adhd_data.func)\n",
        "print(\"KMeans clusters: %.2fs\" % (time.time() - start))"
      ],
      "metadata": {
        "id": "djKyHLtY3d0X",
        "colab": {
          "base_uri": "https://localhost:8080/"
        },
        "outputId": "086d5952-cd8a-4ada-ddbc-76dec9188ddb"
      },
      "execution_count": null,
      "outputs": [
        {
          "output_type": "stream",
          "name": "stdout",
          "text": [
            "[MultiNiftiMasker.fit] Loading data from [/root/nilearn_data/adhd/data/0010042/0010042_rest_tshift_RPI_voreg_mni.nii.gz,\n",
            " /root/nilearn_data/adhd/data/0010064/0010064_rest_tshift_RPI_voreg_mni.nii.gz,\n",
            " /root/nilearn_data/adhd/data/0010128/0010128_rest_tshift_RPI_voreg_mni.nii.gz,\n",
            " /root/nilearn_data/adhd/data/0021019/0021019_rest_tshift_RPI_voreg_mni.nii.gz,\n",
            " /root/nilearn_data/adhd/data/0023008/0023008_rest_tshift_RPI_voreg_mni.nii.gz,\n",
            " /root/nilearn_data/adhd/data/0023012/0023012_rest_tshift_RPI_voreg_mni.nii.gz,\n",
            " /root/nilearn_data/adhd/data/0027011/0027011_rest_tshift_RPI_voreg_mni.nii.gz,\n",
            " /root/nilearn_data/adhd/data/0027018/0027018_rest_tshift_RPI_voreg_mni.nii.gz,\n",
            " /root/nilearn_data/adhd/data/0027034/0027034_rest_tshift_RPI_voreg_mni.nii.gz,\n",
            " /root/nilearn_data/adhd/data/0027037/0027037_rest_tshift_RPI_voreg_mni.nii.gz,\n",
            " /root/nilearn_data/adhd/data/1019436/1019436_rest_tshift_RPI_voreg_mni.nii.gz,\n",
            " /root/nilearn_data/adhd/data/1206380/1206380_rest_tshift_RPI_voreg_mni.nii.gz,\n",
            " /root/nilearn_data/adhd/data/1418396/1418396_rest_tshift_RPI_voreg_mni.nii.gz,\n",
            " /root/nilearn_data/adhd/data/1517058/1517058_rest_tshift_RPI_voreg_mni.nii.gz,\n",
            " /root/nilearn_data/adhd/data/1552181/1552181_rest_tshift_RPI_voreg_mni.nii.gz,\n",
            " /root/nilearn_data/adhd/data/1562298/1562298_rest_tshift_RPI_voreg_mni.nii.gz,\n",
            " /root/nilearn_data/adhd/data/1679142/1679142_rest_tshift_RPI_voreg_mni.nii.gz,\n",
            " /root/nilearn_data/adhd/data/2014113/2014113_rest_tshift_RPI_voreg_mni.nii.gz,\n",
            " /root/nilearn_data/adhd/data/2497695/2497695_rest_tshift_RPI_voreg_mni.nii.gz,\n",
            " /root/nilearn_data/adhd/data/2950754/2950754_rest_tshift_RPI_voreg_mni.nii.gz,\n",
            " /root/nilearn_data/adhd/data/3007585/3007585_rest_tshift_RPI_voreg_mni.nii.gz,\n",
            " /root/nilearn_data/adhd/data/3154996/3154996_rest_tshift_RPI_voreg_mni.nii.gz,\n",
            " /root/nilearn_data/adhd/data/3205761/3205761_rest_tshift_RPI_voreg_mni.nii.gz,\n",
            " /root/nilearn_data/adhd/data/3520880/3520880_rest_tshift_RPI_voreg_mni.nii.gz,\n",
            " /root/nilearn_data/adhd/data/3624598/3624598_rest_tshift_RPI_voreg_mni.nii.gz,\n",
            " /root/nilearn_data/adhd/data/3699991/3699991_rest_tshift_RPI_voreg_mni.nii.gz,\n",
            " /root/nilearn_data/adhd/data/3884955/3884955_rest_tshift_RPI_voreg_mni.nii.gz,\n",
            " /root/nilearn_data/adhd/data/3902469/3902469_rest_tshift_RPI_voreg_mni.nii.gz,\n",
            " /root/nilearn_data/adhd/data/3994098/3994098_rest_tshift_RPI_voreg_mni.nii.gz,\n",
            " /root/nilearn_data/adhd/data/4016887/4016887_rest_tshift_RPI_voreg_mni.nii.gz,\n",
            " /root/nilearn_data/adhd/data/4046678/4046678_rest_tshift_RPI_voreg_mni.nii.gz,\n",
            " /root/nilearn_data/adhd/data/4134561/4134561_rest_tshift_RPI_voreg_mni.nii.gz,\n",
            " /root/nilearn_data/adhd/data/4164316/4164316_rest_tshift_RPI_voreg_mni.nii.gz,\n",
            " /root/nilearn_data/adhd/data/4275075/4275075_rest_tshift_RPI_voreg_mni.nii.gz,\n",
            " /root/nilearn_data/adhd/data/6115230/6115230_rest_tshift_RPI_voreg_mni.nii.gz,\n",
            " /root/nilearn_data/adhd/data/7774305/7774305_rest_tshift_RPI_voreg_mni.nii.gz,\n",
            " /root/nilearn_data/adhd/data/8409791/8409791_rest_tshift_RPI_voreg_mni.nii.gz,\n",
            " /root/nilearn_data/adhd/data/8697774/8697774_rest_tshift_RPI_voreg_mni.nii.gz,\n",
            " /root/nilearn_data/adhd/data/9744150/9744150_rest_tshift_RPI_voreg_mni.nii.gz,\n",
            " /root/nilearn_data/adhd/data/9750701/9750701_rest_tshift_RPI_voreg_mni.nii.gz].\n",
            "[{self.__class__.__name__}.fit] Computing mask\n"
          ]
        },
        {
          "output_type": "stream",
          "name": "stderr",
          "text": [
            "/usr/local/lib/python3.7/dist-packages/nilearn/_utils/cache_mixin.py:307: UserWarning: memory_level is currently set to 0 but a Memory object has been provided. Setting memory_level to 1.\n",
            "  warnings.warn(\"memory_level is currently set to 0 but \"\n"
          ]
        },
        {
          "output_type": "stream",
          "name": "stdout",
          "text": [
            "[MultiNiftiMasker.transform] Resampling mask\n",
            "[Parcellations] Loading data\n",
            "[Parcellations] computing kmeans\n",
            "KMeans clusters: 163.46s\n"
          ]
        }
      ]
    },
    {
      "cell_type": "code",
      "source": [
        "#plot the k-means clusters on the brain\n",
        "\n",
        "kmeans_labels_img = kmeans.labels_img_\n",
        "\n",
        "from nilearn.image import mean_img, index_img\n",
        "\n",
        "mean_func_img = mean_img(adhd_data.func[0])\n",
        "\n",
        "\n",
        "display = plotting.plot_roi(kmeans_labels_img, mean_func_img,\n",
        "                            title=\"KMeans parcellation\",\n",
        "                            display_mode='xz')\n",
        "\n",
        "# kmeans_labels_img is a Nifti1Image object, it can be saved to file with\n",
        "# the following code:\n",
        "kmeans_labels_img.to_filename('kmeans_parcellation.nii.gz')"
      ],
      "metadata": {
        "id": "vmzbJJrd3g73",
        "colab": {
          "base_uri": "https://localhost:8080/",
          "height": 218
        },
        "outputId": "a955f10b-af64-4249-b61d-05078c17a1b8"
      },
      "execution_count": null,
      "outputs": [
        {
          "output_type": "display_data",
          "data": {
            "text/plain": [
              "<Figure size 316.8x187.2 with 3 Axes>"
            ],
            "image/png": "[encoded data removed]"
          },
          "metadata": {}
        }
      ]
    },
    {
      "cell_type": "code",
      "source": [
        "kmeny = kmeans.transform(funcy)"
      ],
      "metadata": {
        "id": "KIIhTSUM3ihf"
      },
      "execution_count": null,
      "outputs": []
    },
    {
      "cell_type": "code",
      "source": [
        "#Measure connectivity using correlation, creating a correlation matrix\n",
        "correlation_measure_2 = ConnectivityMeasure(kind='correlation')\n",
        "correlation_matrices_2 = correlation_measure_2.fit_transform(kmeny)"
      ],
      "metadata": {
        "id": "PltpAvYN3kDZ"
      },
      "execution_count": null,
      "outputs": []
    },
    {
      "cell_type": "markdown",
      "source": [
        "Preparing input data X. Eventually I will have a function that takes as arguments those input arrays to make things more organized."
      ],
      "metadata": {
        "id": "DveBQlIbwgG5"
      }
    },
    {
      "cell_type": "code",
      "execution_count": null,
      "metadata": {
        "id": "Y_1n3-AuHijO"
      },
      "outputs": [],
      "source": [
        "X = np.zeros(shape=(321,25,25))\n",
        "\n",
        "X[:,:20,:20] = correlation_matrices\n",
        "\n",
        "X[:,20:25, 20:25] = DMN_conn\n"
      ]
    },
    {
      "cell_type": "code",
      "source": [
        "X_ = np.zeros(shape=(321,29,29))\n",
        "\n",
        "X_[:,:20,:20] = correlation_matrices\n",
        "\n",
        "X_[:,20:29, 20:29] = ATT_conn"
      ],
      "metadata": {
        "id": "01bR-PCNzdCY"
      },
      "execution_count": null,
      "outputs": []
    },
    {
      "cell_type": "code",
      "source": [
        "XX = np.zeros(shape=(321,20,20))\n",
        "XX[:,:20,:20] = correlation_matrices"
      ],
      "metadata": {
        "id": "Zu9_BzO8ckH0"
      },
      "execution_count": null,
      "outputs": []
    },
    {
      "cell_type": "code",
      "source": [
        "XXX = np.zeros(shape=(321,5,5))\n",
        "XXX[:,:5,:5] = DMN_conn"
      ],
      "metadata": {
        "id": "KwgROPJNczXP"
      },
      "execution_count": null,
      "outputs": []
    },
    {
      "cell_type": "code",
      "source": [
        "XXX_ = np.zeros(shape=(321,9,9))\n",
        "XXX_[:,:9,:9] = ATT_conn"
      ],
      "metadata": {
        "id": "51Lzh9rCdrMr"
      },
      "execution_count": null,
      "outputs": []
    },
    {
      "cell_type": "code",
      "source": [
        "XXX__ = np.zeros(shape=(321,14,14))\n",
        "XXX__[:,:14,:14] = ATT_DMN_conn"
      ],
      "metadata": {
        "id": "Nk1qCSJ6eWxj"
      },
      "execution_count": null,
      "outputs": []
    },
    {
      "cell_type": "code",
      "source": [
        "XXXX = np.zeros(shape=(321,41,41))\n",
        "XXXX[:,:41,:41] = corrs"
      ],
      "metadata": {
        "id": "gmxuMlGBdCCS"
      },
      "execution_count": null,
      "outputs": []
    },
    {
      "cell_type": "code",
      "source": [
        "XXXXX = np.zeros(shape=(321,20,20))\n",
        "XXXXX[:,:20,:20] = correlation_matrices_2"
      ],
      "metadata": {
        "id": "zezRymFmgxaw"
      },
      "execution_count": null,
      "outputs": []
    },
    {
      "cell_type": "code",
      "source": [
        "mat = []\n",
        "for i in range(321):\n",
        "  this = X[i,:,:]\n",
        "  matr = list(this[np.triu_indices(25, k=1)])\n",
        "  mat.append(matr)"
      ],
      "metadata": {
        "id": "1Tb-qNvuez0s"
      },
      "execution_count": null,
      "outputs": []
    },
    {
      "cell_type": "code",
      "source": [
        "mat_ = []\n",
        "for i in range(321):\n",
        "  this = X_[i,:,:]\n",
        "  matr_ = list(this[np.triu_indices(29, k=1)])\n",
        "  mat_.append(matr_)"
      ],
      "metadata": {
        "id": "MW3CtEkPzsEQ"
      },
      "execution_count": null,
      "outputs": []
    },
    {
      "cell_type": "code",
      "source": [
        "maty = np.concatenate([mat, phenotypic], axis=1)"
      ],
      "metadata": {
        "id": "2EgzgS-EufjI"
      },
      "execution_count": null,
      "outputs": []
    },
    {
      "cell_type": "code",
      "source": [
        "matt = []\n",
        "for i in range(321):\n",
        "  this = XX[i,:,:]\n",
        "  mattr = list(this[np.triu_indices(20, k=1)])\n",
        "  matt.append(mattr)"
      ],
      "metadata": {
        "id": "Z8D8K25xe3zg"
      },
      "execution_count": null,
      "outputs": []
    },
    {
      "cell_type": "code",
      "source": [
        "np.shape(matt)"
      ],
      "metadata": {
        "colab": {
          "base_uri": "https://localhost:8080/"
        },
        "id": "CFyWxAu8u3X5",
        "outputId": "7a4e8412-952f-4599-d519-ecc8e28f0990"
      },
      "execution_count": null,
      "outputs": [
        {
          "output_type": "execute_result",
          "data": {
            "text/plain": [
              "(321, 190)"
            ]
          },
          "metadata": {},
          "execution_count": 54
        }
      ]
    },
    {
      "cell_type": "code",
      "source": [
        "matty = np.concatenate([matt, phenotypic], axis=1)"
      ],
      "metadata": {
        "id": "W--iyfoOukj6"
      },
      "execution_count": null,
      "outputs": []
    },
    {
      "cell_type": "code",
      "source": [
        "mattt = []\n",
        "for i in range(321):\n",
        "  this = XXX[i,:,:]\n",
        "  matttr = list(this[np.triu_indices(5, k=1)])\n",
        "  mattt.append(matttr)"
      ],
      "metadata": {
        "id": "cACI-mtSe_TV"
      },
      "execution_count": null,
      "outputs": []
    },
    {
      "cell_type": "code",
      "source": [
        "mattty = np.concatenate([mattt, phenotypic], axis=1)\n",
        "\n",
        "np.shape(mattty)"
      ],
      "metadata": {
        "colab": {
          "base_uri": "https://localhost:8080/"
        },
        "id": "HxjCore0vck5",
        "outputId": "cd59051b-c7be-4db3-9245-cacff970a6b6"
      },
      "execution_count": null,
      "outputs": [
        {
          "output_type": "execute_result",
          "data": {
            "text/plain": [
              "(321, 11)"
            ]
          },
          "metadata": {},
          "execution_count": 188
        }
      ]
    },
    {
      "cell_type": "code",
      "source": [
        "mattt_ = []\n",
        "for i in range(321):\n",
        "  this = XXX_[i,:,:]\n",
        "  mattt_r = list(this[np.triu_indices(9, k=1)])\n",
        "  mattt_.append(mattt_r)"
      ],
      "metadata": {
        "id": "bKTZVOF8fIgO"
      },
      "execution_count": null,
      "outputs": []
    },
    {
      "cell_type": "code",
      "source": [
        "mattty_ = np.concatenate([mattt_, phenotypic], axis=1)"
      ],
      "metadata": {
        "id": "04QUUctIvqLS"
      },
      "execution_count": null,
      "outputs": []
    },
    {
      "cell_type": "code",
      "source": [
        "mattt__ = []\n",
        "for i in range(321):\n",
        "  this = XXX__[i,:,:]\n",
        "  mattt__r = list(this[np.triu_indices(14, k=1)])\n",
        "  mattt__.append(mattt__r)"
      ],
      "metadata": {
        "id": "7aaHHFXWfQd9"
      },
      "execution_count": null,
      "outputs": []
    },
    {
      "cell_type": "code",
      "source": [
        "mattty__ = np.concatenate([mattt__, phenotypic], axis=1)"
      ],
      "metadata": {
        "id": "sxCcB2Z5vyYD"
      },
      "execution_count": null,
      "outputs": []
    },
    {
      "cell_type": "code",
      "source": [
        "matttt = []\n",
        "for i in range(321):\n",
        "  this = XXXX[i,:,:]\n",
        "  mattttr = list(this[np.triu_indices(41, k=1)])\n",
        "  matttt.append(mattttr)"
      ],
      "metadata": {
        "id": "OcTrb0XEfVKO"
      },
      "execution_count": null,
      "outputs": []
    },
    {
      "cell_type": "code",
      "source": [
        "matttty = np.concatenate([matttt, phenotypic], axis=1)"
      ],
      "metadata": {
        "id": "-s7dM93Vv5gj"
      },
      "execution_count": null,
      "outputs": []
    },
    {
      "cell_type": "code",
      "source": [
        "mattttt = []\n",
        "for i in range(321):\n",
        "  this = XXXXX[i,:,:]\n",
        "  matttttr = list(this[np.triu_indices(20, k=1)])\n",
        "  mattttt.append(matttttr)"
      ],
      "metadata": {
        "id": "uZ8UugCfg6r4"
      },
      "execution_count": null,
      "outputs": []
    },
    {
      "cell_type": "code",
      "source": [
        "mattttty = np.concatenate([mattttt, phenotypic], axis=1)"
      ],
      "metadata": {
        "id": "Finyn2_UwCFq"
      },
      "execution_count": null,
      "outputs": []
    },
    {
      "cell_type": "markdown",
      "source": [
        "Tests"
      ],
      "metadata": {
        "id": "uAkZz9p4wuMZ"
      }
    },
    {
      "cell_type": "code",
      "source": [
        "from sklearn import svm\n",
        "from sklearn.model_selection import cross_val_score\n",
        "clf = svm.SVC()\n",
        "scores = cross_val_score(clf, np.array(phenotypic)[np.ix_(pekingy, list(range(np.shape(phenotypic)[1])))], y_peking, cv=7)\n",
        "scores"
      ],
      "metadata": {
        "id": "zVOGuHXFfisA",
        "colab": {
          "base_uri": "https://localhost:8080/"
        },
        "outputId": "2165042f-e6a3-494d-bb9c-0d3d8176166d"
      },
      "execution_count": null,
      "outputs": [
        {
          "output_type": "execute_result",
          "data": {
            "text/plain": [
              "array([0.71428571, 0.64285714, 0.82142857, 0.71428571, 0.57142857,\n",
              "       0.74074074, 0.74074074])"
            ]
          },
          "metadata": {},
          "execution_count": 186
        }
      ]
    },
    {
      "cell_type": "code",
      "source": [
        "from sklearn.tree import DecisionTreeClassifier\n",
        "model = DecisionTreeClassifier(random_state=0)\n",
        "scores = cross_val_score(model, np.array(mattty)[np.ix_(pekingy, list(range(np.shape(mattty)[1])))], y_peking, cv=7)\n",
        "\n",
        "np.mean(scores)"
      ],
      "metadata": {
        "id": "Jc_JtJ3cg6x_",
        "colab": {
          "base_uri": "https://localhost:8080/"
        },
        "outputId": "c6f93b3f-0afd-4995-c190-24720b216479"
      },
      "execution_count": null,
      "outputs": [
        {
          "output_type": "execute_result",
          "data": {
            "text/plain": [
              "0.6392668178382463"
            ]
          },
          "metadata": {},
          "execution_count": 67
        }
      ]
    },
    {
      "cell_type": "code",
      "source": [
        "from sklearn.neural_network import MLPClassifier\n",
        "\n",
        "modell = MLPClassifier(max_iter=10000)\n",
        "scores = cross_val_score(modell, np.array(phenotypic)[np.ix_(pekingy, list(range(np.shape(phenotypic)[1])))], y_peking, cv=7)\n",
        "mlp_five = np.mean(scores)"
      ],
      "metadata": {
        "id": "yErm_9Nfzi3Q"
      },
      "execution_count": null,
      "outputs": []
    },
    {
      "cell_type": "code",
      "source": [
        "from sklearn.linear_model import LogisticRegression\n",
        "\n",
        "logreg = LogisticRegression()\n",
        "scores = cross_val_score(logreg, np.array(mattty)[np.ix_(pekingy, list(range(np.shape(mattty)[1])))], y_peking, cv=7)\n",
        "np.mean(scores)"
      ],
      "metadata": {
        "colab": {
          "base_uri": "https://localhost:8080/"
        },
        "id": "bJDZe6EsQF6x",
        "outputId": "8141c334-2137-4ff5-bf2d-9dc0f165da9b"
      },
      "execution_count": null,
      "outputs": [
        {
          "output_type": "execute_result",
          "data": {
            "text/plain": [
              "0.5765306122448981"
            ]
          },
          "metadata": {},
          "execution_count": 69
        }
      ]
    },
    {
      "cell_type": "code",
      "source": [
        "from sklearn.naive_bayes import GaussianNB\n",
        "modelll = GaussianNB()\n",
        "scores = cross_val_score(modelll, np.array(mattty)[np.ix_(pekingy, list(range(np.shape(mattty)[1])))], y_peking, cv=7)\n",
        "np.mean(scores)"
      ],
      "metadata": {
        "colab": {
          "base_uri": "https://localhost:8080/"
        },
        "id": "O5pmI3-e0cWi",
        "outputId": "36b50b32-705e-4094-f3a5-102cab4c837f"
      },
      "execution_count": null,
      "outputs": [
        {
          "output_type": "execute_result",
          "data": {
            "text/plain": [
              "0.6131897203325776"
            ]
          },
          "metadata": {},
          "execution_count": 70
        }
      ]
    },
    {
      "cell_type": "markdown",
      "source": [
        "Plots"
      ],
      "metadata": {
        "id": "ORVOmStWw1N0"
      }
    },
    {
      "cell_type": "code",
      "source": [
        "import matplotlib.pyplot as plt\n",
        "\n",
        "plt.figure(figsize=(25, 6))\n",
        "plt.bar([\"Kmeans clusters\", \"ICA clusters\", \"Dict_DMN\", \"Dict_AN\", \"Phenotypic\", \"Kmeans&PerformanceIO\", \"ICA&PerformanceIO\", \"DMN&PerformanceIQ\", \"AN&PerformanceIQ\", \"DMN&VerbalIQ\"],\n",
        " [svm_kmeans, svm_ica, svm_dmn, svm_dan, svm_five, svm_kmeansandiq, svm_icaandiq, svm_dmnandiq, svm_danandiq, svm_dmnandverb])\n",
        "plt.ylim([0.55,0.73])\n",
        "plt.title(\"SVM cross-validation average accuracy\")"
      ],
      "metadata": {
        "id": "X6DYmIjcHyg1"
      },
      "execution_count": null,
      "outputs": []
    },
    {
      "cell_type": "code",
      "source": [
        "import matplotlib.pyplot as plt\n",
        "\n",
        "plt.figure(figsize=(15, 6))\n",
        "plt.bar([\"Phenotypic\", \"Kmeans&PerformanceIO\", \"ICA&PerformanceIO\", \"DMN&PerformanceIQ\", \"AN&PerformanceIQ\"], [mlp_five, mlp_kmeansandiq, mlp_icaandiq, mlp_dmnandiq, mlp_dacandiq])\n",
        "plt.ylim([0.53, 0.69])\n",
        "plt.title(\"MLP cross-validation average accuracy\")"
      ],
      "metadata": {
        "id": "taB2TwKsJDfW"
      },
      "execution_count": null,
      "outputs": []
    },
    {
      "cell_type": "code",
      "source": [
        "[svm_danandiq, svm_dmnandiq, svm_kmeansandiq, svm_icaandiq, svm_dmn, svm_dan, svm_ica, svm_kmeans, svm_dmnandfour, svm_five, svm_kmeansandverb, svm_dmnandverb, svm_dacandverb, svm_icaandverb]"
      ],
      "metadata": {
        "id": "LxmCtqJmA1IY"
      },
      "execution_count": null,
      "outputs": []
    },
    {
      "cell_type": "markdown",
      "source": [
        "DNN"
      ],
      "metadata": {
        "id": "QLA7wjQow9PW"
      }
    },
    {
      "cell_type": "code",
      "source": [
        "acc = []\n",
        "\n",
        "for i in range(7):\n",
        "  from sklearn.model_selection import train_test_split\n",
        "  X_train, X_test, y_train, y_test = train_test_split(np.array(mattty)[np.ix_(pekingy, list(range(np.shape(mattty)[1])))], y_peking, test_size=0.3)\n",
        "\n",
        "  import keras\n",
        "  import tensorflow.keras.optimizers\n",
        "  from tensorflow.keras.optimizers import Adam\n",
        "  from keras.models import Sequential\n",
        "  from keras.layers import Dense\n",
        "  #from keras.optimizers import Adam\n",
        "  classifier = Sequential()\n",
        "  #First Hidden Layer\n",
        "  classifier.add(Dense(32, activation='tanh', kernel_initializer='random_normal', input_shape=np.shape(mattty)[1:]))\n",
        "  #Second Hidden Layer\n",
        "  classifier.add(Dense(16, activation='relu', kernel_initializer='random_normal'))\n",
        "  #Third Hidden Layer\n",
        "  classifier.add(Dense(16, activation='relu', kernel_initializer='random_normal'))\n",
        "  #Output Layer\n",
        "  classifier.add(Dense(1, activation='sigmoid', kernel_initializer='random_normal'))\n",
        "  #Compiling the model\n",
        "  classifier.compile(optimizer = Adam(lr =.0001),loss='binary_crossentropy', metrics =['accuracy'])\n",
        "  #Fitting the model\n",
        "  classifier.fit(np.array(X_train),np.array(y_train), batch_size=32, epochs=100)\n",
        "  eval_model=classifier.evaluate(np.array(X_train), np.array(y_train))\n",
        "  acc.append(eval_model[1])"
      ],
      "metadata": {
        "id": "zHzdhKvm1qp8"
      },
      "execution_count": null,
      "outputs": []
    },
    {
      "cell_type": "code",
      "source": [
        "import matplotlib.pyplot as plt\n",
        "\n",
        "plt.figure(figsize=(15, 6))\n",
        "plt.bar([\"ICA\", \"Kmeans\", \"DMN\", \"AN\", \"Phenotypic\", \"ICA&DMN\", \"ICA&AN\"], [np.mean(acc_without), np.mean(acc_kmeans), np.mean(acc_dmn), np.mean(acc_dac), np.mean(acc_pheno), np.mean(acc_with), np.mean(acc_with_dac)])\n",
        "plt.ylim([0.53, 0.73])\n",
        "plt.title(\"DNN cross-validation average accuracy\")"
      ],
      "metadata": {
        "colab": {
          "base_uri": "https://localhost:8080/",
          "height": 408
        },
        "id": "8u3jfu9q0bT2",
        "outputId": "1115a9e0-5553-480e-8eae-f0ab7f2c75e5"
      },
      "execution_count": null,
      "outputs": [
        {
          "output_type": "execute_result",
          "data": {
            "text/plain": [
              "Text(0.5, 1.0, 'DNN cross-validation average accuracy')"
            ]
          },
          "metadata": {},
          "execution_count": 184
        },
        {
          "output_type": "display_data",
          "data": {
            "text/plain": [
              "<Figure size 1080x432 with 1 Axes>"
            ],
            "image/png": "[encoded data removed]"
          },
          "metadata": {
            "needs_background": "light"
          }
        }
      ]
    },
    {
      "cell_type": "code",
      "source": [
        "[acc_without, acc_with, acc_with_dac]"
      ],
      "metadata": {
        "colab": {
          "base_uri": "https://localhost:8080/"
        },
        "id": "7TrwPrjDx9_z",
        "outputId": "652be8b9-98d5-47d2-9784-b45bb591fa0e"
      },
      "execution_count": null,
      "outputs": [
        {
          "output_type": "execute_result",
          "data": {
            "text/plain": [
              "[[0.7053571343421936,\n",
              "  0.6919642686843872,\n",
              "  0.7098214030265808,\n",
              "  0.7008928656578064,\n",
              "  0.7321428656578064,\n",
              "  0.6964285969734192,\n",
              "  0.7053571343421936],\n",
              " [0.7366071343421936,\n",
              "  0.7321428656578064,\n",
              "  0.71875,\n",
              "  0.6919642686843872,\n",
              "  0.7008928656578064,\n",
              "  0.7142857313156128,\n",
              "  0.7455357313156128],\n",
              " [0.6919642686843872,\n",
              "  0.7232142686843872,\n",
              "  0.71875,\n",
              "  0.75,\n",
              "  0.6651785969734192,\n",
              "  0.7098214030265808,\n",
              "  0.7098214030265808]]"
            ]
          },
          "metadata": {},
          "execution_count": 132
        }
      ]
    },
    {
      "cell_type": "code",
      "source": [
        "eval_model=classifier.evaluate(np.array(X_train), np.array(y_train))\n",
        "eval_model[1]"
      ],
      "metadata": {
        "id": "4FZsI6Al1ypc",
        "colab": {
          "base_uri": "https://localhost:8080/"
        },
        "outputId": "e422b16d-70be-4c29-ff68-c57dc03a2463"
      },
      "execution_count": null,
      "outputs": [
        {
          "output_type": "execute_result",
          "data": {
            "text/plain": [
              "0.7276785969734192"
            ]
          },
          "metadata": {},
          "execution_count": 111
        }
      ]
    },
    {
      "cell_type": "code",
      "execution_count": null,
      "metadata": {
        "id": "5QhwayGyn1kQ"
      },
      "outputs": [],
      "source": [
        "np.save('DMN_conn', DMN_conn)\n",
        "np.save('correlation_matrices', correlation_matrices)\n",
        "np.save('corrs', corrs)\n",
        "np.save('correlations', correlations)"
      ]
    }
  ],
  "metadata": {
    "colab": {
      "collapsed_sections": [],
      "provenance": []
    },
    "kernelspec": {
      "display_name": "Python 3",
      "name": "python3"
    },
    "language_info": {
      "name": "python"
    }
  },
  "nbformat": 4,
  "nbformat_minor": 0
}